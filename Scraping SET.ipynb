{
 "cells": [
  {
   "cell_type": "markdown",
   "metadata": {},
   "source": [
    "In this notebook, I will gather the HTML file from the SET web.\n",
    "I will use the PTT stock data as an example, here is the link https://www.set.or.th/set/historicaltrading.do?symbol=PTT&page=2&language=en&country=US&type=trading\n",
    "\n",
    "Note that in order to change the stock of interest, you just change the symbol (PTT, in this case) to whatever you want."
   ]
  },
  {
   "cell_type": "code",
   "execution_count": 2,
   "metadata": {},
   "outputs": [],
   "source": [
    "import urllib\n",
    "from bs4 import BeautifulSoup"
   ]
  },
  {
   "cell_type": "code",
   "execution_count": 3,
   "metadata": {},
   "outputs": [],
   "source": [
    "def set_scraping(symbol, page = 1):\n",
    "    # limit the maximum number of pages at 3, for convenience\n",
    "    if page > 3:\n",
    "        page = 3\n",
    "    \n",
    "    url_str = \"https://www.set.or.th/set/historicaltrading.do?symbol={0}\".format(symbol)\n",
    "    url_str += '&page={0}&language=en&country=US&type=trading'.format(page-1)\n",
    "    page = urllib.request.urlopen(url_str).read()\n",
    "    soup = BeautifulSoup(page, 'lxml')\n",
    "    table = soup.find('table', class_ = 'table table-hover table-info')\n",
    "    return table, url_str"
   ]
  },
  {
   "cell_type": "code",
   "execution_count": 4,
   "metadata": {},
   "outputs": [],
   "source": [
    "table_element, url_str = set_scraping('PTT')"
   ]
  },
  {
   "cell_type": "code",
   "execution_count": 8,
   "metadata": {},
   "outputs": [
    {
     "name": "stdout",
     "output_type": "stream",
     "text": [
      "[<tr align=\"center\" class=\"bggrey1\">\n",
      "<th height=\"35\" width=\"10%\"><strong>Date</strong></th>\n",
      "<th width=\"10%\"><strong>Open</strong></th>\n",
      "<th width=\"10%\"><strong>High</strong></th>\n",
      "<th width=\"10%\"><strong>Low</strong></th>\n",
      "<th width=\"10%\"><strong>Close</strong></th>\n",
      "<th width=\"10%\"><strong>Change</strong></th>\n",
      "<th width=\"10%\"><strong>%Change</strong></th>\n",
      "<th width=\"13%\"><strong>Total Volume<br/>(Shares)</strong></th>\n",
      "<th width=\"17%\"><strong>Total Value<br/>('000 Baht)</strong></th>\n",
      "</tr>, <tr align=\"right\">\n",
      "<td align=\"center\">17/01/2020</td>\n",
      "<td>46.00</td>\n",
      "<td>46.50</td>\n",
      "<td>45.75</td>\n",
      "<td>46.00</td>\n",
      "<td><font color=\"#000000\"> 0.00</font></td>\n",
      "<td><font color=\"#000000\"> 0.00</font></td>\n",
      "<td>35,447,926</td>\n",
      "<td>1,632,677.74</td>\n",
      "</tr>]\n"
     ]
    }
   ],
   "source": [
    "tr_list = table_element.findAll('tr')\n",
    "print(tr_list[0:2])"
   ]
  },
  {
   "cell_type": "code",
   "execution_count": null,
   "metadata": {},
   "outputs": [],
   "source": []
  }
 ],
 "metadata": {
  "kernelspec": {
   "display_name": "Python 3",
   "language": "python",
   "name": "python3"
  },
  "language_info": {
   "codemirror_mode": {
    "name": "ipython",
    "version": 3
   },
   "file_extension": ".py",
   "mimetype": "text/x-python",
   "name": "python",
   "nbconvert_exporter": "python",
   "pygments_lexer": "ipython3",
   "version": "3.7.4"
  }
 },
 "nbformat": 4,
 "nbformat_minor": 2
}
