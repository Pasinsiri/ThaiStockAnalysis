{
 "cells": [
  {
   "cell_type": "code",
   "execution_count": 13,
   "metadata": {},
   "outputs": [],
   "source": [
    "import datetime\n",
    "\n",
    "import matplotlib.dates as mdates\n",
    "import matplotlib.pyplot as plt\n",
    "import pandas as pd\n",
    "from matplotlib.dates import MONDAY, DateFormatter, DayLocator, WeekdayLocator\n",
    "from mpl_finance import candlestick_ohlc"
   ]
  },
  {
   "cell_type": "code",
   "execution_count": 14,
   "metadata": {},
   "outputs": [],
   "source": [
    "csv = \"https://raw.githubusercontent.com/matplotlib/mpl-finance/master/examples/data/yahoofinance-INTC-19950101-20040412.csv\""
   ]
  },
  {
   "cell_type": "code",
   "execution_count": 23,
   "metadata": {},
   "outputs": [
    {
     "data": {
      "image/png": "[encoded data removed]",
      "text/plain": [
       "<Figure size 576x864 with 1 Axes>"
      ]
     },
     "metadata": {
      "needs_background": "light"
     },
     "output_type": "display_data"
    }
   ],
   "source": [
    "date1 = \"2004-2-1\"\n",
    "date2 = \"2004-4-12\"\n",
    "\n",
    "\n",
    "mondays = WeekdayLocator(MONDAY)        # major ticks on the mondays\n",
    "alldays = DayLocator()                  # minor ticks on the days\n",
    "weekFormatter = DateFormatter('%b %d')  # e.g., Jan 12\n",
    "dayFormatter = DateFormatter('%d')      # e.g., 12\n",
    "\n",
    "quotes = pd.read_csv(csv,\n",
    "                     index_col=0,\n",
    "                     parse_dates=True,\n",
    "                     infer_datetime_format=True)\n",
    "\n",
    "# select desired range of dates\n",
    "quotes = quotes[(quotes.index >= date1) & (quotes.index <= date2)]\n",
    "\n",
    "fig, ax = plt.subplots()\n",
    "fig.subplots_adjust(bottom=0.2)\n",
    "ax.xaxis.set_major_locator(mondays)\n",
    "ax.xaxis.set_minor_locator(alldays)\n",
    "ax.xaxis.set_major_formatter(weekFormatter)\n",
    "# ax.xaxis.set_minor_formatter(dayFormatter)\n",
    "\n",
    "# plot_day_summary(ax, quotes, ticksize=3)\n",
    "candlestick_ohlc(ax, zip(mdates.date2num(quotes.index.to_pydatetime()),\n",
    "                         quotes['Open'], quotes['High'],\n",
    "                         quotes['Low'], quotes['Close']),\n",
    "                 width=0.6)\n",
    "\n",
    "ax.xaxis_date()\n",
    "ax.autoscale_view()\n",
    "plt.setp(plt.gca().get_xticklabels(), rotation=45, horizontalalignment='right')\n",
    "\n",
    "plt.show()"
   ]
  },
  {
   "cell_type": "code",
   "execution_count": 17,
   "metadata": {},
   "outputs": [
    {
     "data": {
      "text/html": [
       "<div>\n",
       "<style scoped>\n",
       "    .dataframe tbody tr th:only-of-type {\n",
       "        vertical-align: middle;\n",
       "    }\n",
       "\n",
       "    .dataframe tbody tr th {\n",
       "        vertical-align: top;\n",
       "    }\n",
       "\n",
       "    .dataframe thead th {\n",
       "        text-align: right;\n",
       "    }\n",
       "</style>\n",
       "<table border=\"1\" class=\"dataframe\">\n",
       "  <thead>\n",
       "    <tr style=\"text-align: right;\">\n",
       "      <th></th>\n",
       "      <th>Open</th>\n",
       "      <th>High</th>\n",
       "      <th>Low</th>\n",
       "      <th>Close</th>\n",
       "      <th>Adj Close</th>\n",
       "      <th>Volume</th>\n",
       "    </tr>\n",
       "    <tr>\n",
       "      <th>Date</th>\n",
       "      <th></th>\n",
       "      <th></th>\n",
       "      <th></th>\n",
       "      <th></th>\n",
       "      <th></th>\n",
       "      <th></th>\n",
       "    </tr>\n",
       "  </thead>\n",
       "  <tbody>\n",
       "    <tr>\n",
       "      <th>2004-02-02</th>\n",
       "      <td>30.900000</td>\n",
       "      <td>30.950001</td>\n",
       "      <td>30.209999</td>\n",
       "      <td>30.320000</td>\n",
       "      <td>20.746735</td>\n",
       "      <td>65039500</td>\n",
       "    </tr>\n",
       "    <tr>\n",
       "      <th>2004-02-03</th>\n",
       "      <td>30.440001</td>\n",
       "      <td>31.430000</td>\n",
       "      <td>30.320000</td>\n",
       "      <td>31.400000</td>\n",
       "      <td>21.485735</td>\n",
       "      <td>62375400</td>\n",
       "    </tr>\n",
       "    <tr>\n",
       "      <th>2004-02-04</th>\n",
       "      <td>30.950001</td>\n",
       "      <td>31.000000</td>\n",
       "      <td>30.010000</td>\n",
       "      <td>30.020000</td>\n",
       "      <td>20.567663</td>\n",
       "      <td>79361900</td>\n",
       "    </tr>\n",
       "    <tr>\n",
       "      <th>2004-02-05</th>\n",
       "      <td>30.350000</td>\n",
       "      <td>30.440001</td>\n",
       "      <td>29.750000</td>\n",
       "      <td>29.920000</td>\n",
       "      <td>20.499142</td>\n",
       "      <td>74618700</td>\n",
       "    </tr>\n",
       "    <tr>\n",
       "      <th>2004-02-06</th>\n",
       "      <td>30.049999</td>\n",
       "      <td>30.940001</td>\n",
       "      <td>29.990000</td>\n",
       "      <td>30.879999</td>\n",
       "      <td>21.156881</td>\n",
       "      <td>55401000</td>\n",
       "    </tr>\n",
       "  </tbody>\n",
       "</table>\n",
       "</div>"
      ],
      "text/plain": [
       "                 Open       High        Low      Close  Adj Close    Volume\n",
       "Date                                                                       \n",
       "2004-02-02  30.900000  30.950001  30.209999  30.320000  20.746735  65039500\n",
       "2004-02-03  30.440001  31.430000  30.320000  31.400000  21.485735  62375400\n",
       "2004-02-04  30.950001  31.000000  30.010000  30.020000  20.567663  79361900\n",
       "2004-02-05  30.350000  30.440001  29.750000  29.920000  20.499142  74618700\n",
       "2004-02-06  30.049999  30.940001  29.990000  30.879999  21.156881  55401000"
      ]
     },
     "execution_count": 17,
     "metadata": {},
     "output_type": "execute_result"
    }
   ],
   "source": [
    "quotes.head()"
   ]
  },
  {
   "cell_type": "code",
   "execution_count": 18,
   "metadata": {},
   "outputs": [
    {
     "data": {
      "text/plain": [
       "<zip at 0x111c83780>"
      ]
     },
     "execution_count": 18,
     "metadata": {},
     "output_type": "execute_result"
    }
   ],
   "source": [
    "zip(mdates.date2num(quotes.index.to_pydatetime()),\n",
    "                         quotes['Open'], quotes['High'],\n",
    "                         quotes['Low'], quotes['Close'])"
   ]
  },
  {
   "cell_type": "code",
   "execution_count": 20,
   "metadata": {},
   "outputs": [
    {
     "data": {
      "text/plain": [
       "array([731613., 731614., 731615., 731616., 731617., 731620., 731621.,\n",
       "       731622., 731623., 731624., 731628., 731629., 731630., 731631.,\n",
       "       731634., 731635., 731636., 731637., 731638., 731641., 731642.,\n",
       "       731643., 731644., 731645., 731648., 731649., 731650., 731651.,\n",
       "       731652., 731655., 731656., 731657., 731658., 731659., 731662.,\n",
       "       731663., 731664., 731665., 731666., 731669., 731670., 731671.,\n",
       "       731672., 731673., 731676., 731677., 731678., 731679.])"
      ]
     },
     "execution_count": 20,
     "metadata": {},
     "output_type": "execute_result"
    }
   ],
   "source": [
    "mdates.date2num(quotes.index.to_pydatetime())"
   ]
  },
  {
   "cell_type": "code",
   "execution_count": null,
   "metadata": {},
   "outputs": [],
   "source": []
  }
 ],
 "metadata": {
  "kernelspec": {
   "display_name": "Python 3",
   "language": "python",
   "name": "python3"
  },
  "language_info": {
   "codemirror_mode": {
    "name": "ipython",
    "version": 3
   },
   "file_extension": ".py",
   "mimetype": "text/x-python",
   "name": "python",
   "nbconvert_exporter": "python",
   "pygments_lexer": "ipython3",
   "version": "3.7.4"
  }
 },
 "nbformat": 4,
 "nbformat_minor": 2
}
