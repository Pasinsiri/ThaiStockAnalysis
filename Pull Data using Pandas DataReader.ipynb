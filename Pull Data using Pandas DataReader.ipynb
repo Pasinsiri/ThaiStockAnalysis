{
 "cells": [
  {
   "cell_type": "markdown",
   "metadata": {},
   "source": [
    "In this notebook, I will gather the time-series data of relevant stock prices and volume of my stocks of interest from YahooFinance using the pandas_datareader module."
   ]
  },
  {
   "cell_type": "code",
   "execution_count": 1,
   "metadata": {},
   "outputs": [],
   "source": [
    "from pandas_datareader import data as pdd\n",
    "import sys"
   ]
  },
  {
   "cell_type": "code",
   "execution_count": 45,
   "metadata": {},
   "outputs": [
    {
     "name": "stdout",
     "output_type": "stream",
     "text": [
      "             High    Low   Open  Close      Volume  Adj Close\n",
      "Date                                                         \n",
      "2017-04-24  41.50  40.75  41.00  41.00  35314600.0  39.216961\n",
      "2017-04-25  41.50  40.75  41.00  41.25  39140700.0  39.456089\n",
      "2017-04-26  41.75  41.00  41.50  41.50  39840000.0  39.695221\n",
      "2017-04-27  41.50  40.75  41.50  40.75  23371400.0  38.977833\n",
      "2017-04-28  41.00  40.25  40.75  40.25  24434600.0  38.499577\n"
     ]
    }
   ],
   "source": [
    "# Try the AOT data\n",
    "try:\n",
    "    aot = pdd.get_data_yahoo('AOT.BK', start = '2017-01-01', end = '2017-04-30')\n",
    "    print(aot.tail())\n",
    "except:\n",
    "    print('Error:', sys.exc_info()[0])\n",
    "    print('Description:', sys.exc_info()[1])"
   ]
  },
  {
   "cell_type": "code",
   "execution_count": 3,
   "metadata": {},
   "outputs": [],
   "source": [
    "import matplotlib.pyplot as plt\n",
    "from matplotlib.dates import DateFormatter, WeekdayLocator, DayLocator, MONDAY\n",
    "from mpl_finance import candlestick_ohlc\n",
    "import matplotlib.dates as mdates\n",
    "import pandas as pd"
   ]
  },
  {
   "cell_type": "code",
   "execution_count": 42,
   "metadata": {},
   "outputs": [],
   "source": [
    "def candlestickplot(data, start, end):\n",
    "    data = data[(data.index >= start) & (data.index <= end)]\n",
    "    \n",
    "    #mondays = WeekdayLocator(MONDAY)\n",
    "    locator = mdates.MinuteLocator(byminute=[0,30])\n",
    "    locator.MAXTICKS = 1500\n",
    "    \n",
    "    alldays = DayLocator()\n",
    "    weekFormatter = DateFormatter('%b-%d')\n",
    "    dayFormatter = DateFormatter('%d')\n",
    "    \n",
    "    fig, ax = plt.subplots()\n",
    "    fig.set_figheight(6)\n",
    "    fig.set_figwidth(12)\n",
    "    fig.subplots_adjust(bottom = 0.2)\n",
    "    ax.xaxis.set_major_locator(mondays)\n",
    "    ax.xaxis.set_minor_locator(alldays)\n",
    "    ax.xaxis.set_major_formatter(weekFormatter)\n",
    "    \n",
    "    #candlestick_ohlc(ax, data['Open'], data['High'], data['Low'], data['Close'])\n",
    "\n",
    "    candlestick_ohlc(ax, zip(mdates.date2num(data.index.to_pydatetime()),\n",
    "                         data['Open'], data['High'],\n",
    "                         data['Low'], data['Close']),\n",
    "                     width=0.6, colorup='g')\n",
    "    \n",
    "    ax.xaxis_date()\n",
    "    ax.autoscale_view()\n",
    "    plt.setp(plt.gca().get_xticklabels(), rotation = 45,\n",
    "             horizontalalignment = 'right')\n",
    "\n",
    "    plt.title('Candlestick Plot')\n",
    "    plt.show()"
   ]
  },
  {
   "cell_type": "code",
   "execution_count": 44,
   "metadata": {},
   "outputs": [
    {
     "data": {
      "image/png": "[encoded data removed]",
      "text/plain": [
       "<Figure size 864x432 with 1 Axes>"
      ]
     },
     "metadata": {
      "needs_background": "light"
     },
     "output_type": "display_data"
    }
   ],
   "source": [
    "start = '2017-01-01'\n",
    "end = '2017-03-01'\n",
    "candlestickplot(aot, start, end)"
   ]
  },
  {
   "cell_type": "code",
   "execution_count": null,
   "metadata": {},
   "outputs": [],
   "source": []
  }
 ],
 "metadata": {
  "kernelspec": {
   "display_name": "Python 3",
   "language": "python",
   "name": "python3"
  },
  "language_info": {
   "codemirror_mode": {
    "name": "ipython",
    "version": 3
   },
   "file_extension": ".py",
   "mimetype": "text/x-python",
   "name": "python",
   "nbconvert_exporter": "python",
   "pygments_lexer": "ipython3",
   "version": "3.7.4"
  }
 },
 "nbformat": 4,
 "nbformat_minor": 2
}
